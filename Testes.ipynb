{
 "cells": [
  {
   "cell_type": "code",
   "execution_count": 89,
   "metadata": {},
   "outputs": [],
   "source": [
    "import PyPDF2\n",
    "import re\n",
    "import pandas as pd\n",
    "import yfinance as yf\n",
    "\n",
    "# TODO API yahoo finance\n",
    "\n",
    "pdf_file = open('ru2000_membershiplist_20220624_0.pdf', 'rb')\n",
    "read_pdf = PyPDF2.PdfReader(pdf_file)\n",
    "pages = read_pdf.pages\n",
    "p = 0\n",
    "#df = pd.DataFrame(columns = ['Company', 'Ticker', 'IPO', 'First Value', 'Last Value', 'Last Date', 'How Much'])\n"
   ]
  },
  {
   "cell_type": "code",
   "execution_count": 94,
   "metadata": {},
   "outputs": [
    {
     "name": "stdout",
     "output_type": "stream",
     "text": [
      "2004-08-01 00:00:00-04:00\n",
      "2023-05-01 00:00:00-04:00\n"
     ]
    }
   ],
   "source": [
    "co = yf.Ticker(\"GOOG\")\n",
    "history = co.history(period=\"max\", interval=\"3mo\",)\n",
    "print(history.index[0])\n",
    "print(history.index[-1])\n"
   ]
  },
  {
   "cell_type": "code",
   "execution_count": 98,
   "metadata": {},
   "outputs": [
    {
     "name": "stdout",
     "output_type": "stream",
     "text": [
      "2004-08-19 00:00:00-04:00\n",
      "2023-05-05 00:00:00-04:00\n"
     ]
    }
   ],
   "source": [
    "co = yf.Ticker(\"GOOG\")\n",
    "history = co.history(period=\"max\")\n",
    "print(history.index[0])\n",
    "print(history.index[-1])\n"
   ]
  },
  {
   "cell_type": "code",
   "execution_count": 99,
   "metadata": {},
   "outputs": [
    {
     "name": "stdout",
     "output_type": "stream",
     "text": [
      "2023-05-07 19:22:16.794701\n",
      "2023-05-07 19:22:16.794701+00:00\n",
      "2023-05-07 19:22:16.794701\n"
     ]
    }
   ],
   "source": [
    "\n",
    "from datetime import datetime, timezone\n",
    " \n",
    "# Get the datetime object using datetime\n",
    "# module\n",
    "dt_obj_w_tz = datetime.now()\n",
    "print(dt_obj_w_tz)\n",
    " \n",
    "# Add timezone information to the datetime\n",
    "# object\n",
    "dt_obj_w_tz = dt_obj_w_tz.replace(tzinfo=timezone.utc)\n",
    "print(dt_obj_w_tz)\n",
    " \n",
    "# Remove the timezone information from the datetime\n",
    "# object\n",
    "dt_obj_wo_tz = dt_obj_w_tz.replace(tzinfo=None)\n",
    "print(dt_obj_wo_tz)"
   ]
  },
  {
   "cell_type": "code",
   "execution_count": 100,
   "metadata": {},
   "outputs": [
    {
     "name": "stdout",
     "output_type": "stream",
     "text": [
      "2004-08-19 00:00:00-04:00\n",
      "2004-08-19 00:00:00\n"
     ]
    }
   ],
   "source": [
    "type(history)\n",
    "row = history.iloc[0]\n",
    "date = history.index[0]\n",
    "type(date)\n",
    "print(date)\n",
    "print(date.replace(tzinfo=None))\n",
    "#history.dtypes\n",
    "history.to_csv(\"teste.csv\", date_format='%Y-%m-%d')"
   ]
  },
  {
   "cell_type": "code",
   "execution_count": 104,
   "metadata": {},
   "outputs": [
    {
     "name": "stdout",
     "output_type": "stream",
     "text": [
      "\n",
      "\n",
      "---------------------\n",
      "Página 3\n",
      "---------------------\n",
      "\n",
      "Company | Ticker\n",
      "APELLIS PHARMACEUTICALS | APLS | ̭̭2017-11-01 00:00:00-04:00 | ̭̭13.869999885559082 | ̭̭76.70999908447266 | ̭̭2023-05-01 00:00:00-04:00 | ̭̭453.06416523002423\n"
     ]
    },
    {
     "ename": "ValueError",
     "evalue": "7 columns passed, passed data had 5 columns",
     "output_type": "error",
     "traceback": [
      "\u001b[0;31m---------------------------------------------------------------------------\u001b[0m",
      "\u001b[0;31mAssertionError\u001b[0m                            Traceback (most recent call last)",
      "\u001b[0;32m~/.local/lib/python3.10/site-packages/pandas/core/internals/construction.py\u001b[0m in \u001b[0;36m_finalize_columns_and_data\u001b[0;34m(content, columns, dtype)\u001b[0m\n\u001b[1;32m    933\u001b[0m     \u001b[0;32mtry\u001b[0m\u001b[0;34m:\u001b[0m\u001b[0;34m\u001b[0m\u001b[0;34m\u001b[0m\u001b[0m\n\u001b[0;32m--> 934\u001b[0;31m         \u001b[0mcolumns\u001b[0m \u001b[0;34m=\u001b[0m \u001b[0m_validate_or_indexify_columns\u001b[0m\u001b[0;34m(\u001b[0m\u001b[0mcontents\u001b[0m\u001b[0;34m,\u001b[0m \u001b[0mcolumns\u001b[0m\u001b[0;34m)\u001b[0m\u001b[0;34m\u001b[0m\u001b[0;34m\u001b[0m\u001b[0m\n\u001b[0m\u001b[1;32m    935\u001b[0m     \u001b[0;32mexcept\u001b[0m \u001b[0mAssertionError\u001b[0m \u001b[0;32mas\u001b[0m \u001b[0merr\u001b[0m\u001b[0;34m:\u001b[0m\u001b[0;34m\u001b[0m\u001b[0;34m\u001b[0m\u001b[0m\n",
      "\u001b[0;32m~/.local/lib/python3.10/site-packages/pandas/core/internals/construction.py\u001b[0m in \u001b[0;36m_validate_or_indexify_columns\u001b[0;34m(content, columns)\u001b[0m\n\u001b[1;32m    980\u001b[0m             \u001b[0;31m# caller's responsibility to check for this...\u001b[0m\u001b[0;34m\u001b[0m\u001b[0;34m\u001b[0m\u001b[0m\n\u001b[0;32m--> 981\u001b[0;31m             raise AssertionError(\n\u001b[0m\u001b[1;32m    982\u001b[0m                 \u001b[0;34mf\"{len(columns)} columns passed, passed data had \"\u001b[0m\u001b[0;34m\u001b[0m\u001b[0;34m\u001b[0m\u001b[0m\n",
      "\u001b[0;31mAssertionError\u001b[0m: 7 columns passed, passed data had 5 columns",
      "\nThe above exception was the direct cause of the following exception:\n",
      "\u001b[0;31mValueError\u001b[0m                                Traceback (most recent call last)",
      "\u001b[0;32m/tmp/ipykernel_127498/3281070218.py\u001b[0m in \u001b[0;36m<module>\u001b[0;34m\u001b[0m\n\u001b[1;32m     50\u001b[0m                         \u001b[0mc\u001b[0m \u001b[0;34m+=\u001b[0m \u001b[0;36m2\u001b[0m\u001b[0;34m\u001b[0m\u001b[0;34m\u001b[0m\u001b[0m\n\u001b[1;32m     51\u001b[0m                         \u001b[0;31m#df.to_csv('SuperTempShares.csv', date_format=\"%d/%m/%Y\")\u001b[0m\u001b[0;34m\u001b[0m\u001b[0;34m\u001b[0m\u001b[0m\n\u001b[0;32m---> 52\u001b[0;31m                         \u001b[0mdf\u001b[0m \u001b[0;34m=\u001b[0m \u001b[0mpd\u001b[0m\u001b[0;34m.\u001b[0m\u001b[0mDataFrame\u001b[0m\u001b[0;34m(\u001b[0m\u001b[0mrows\u001b[0m\u001b[0;34m,\u001b[0m \u001b[0mcolumns\u001b[0m \u001b[0;34m=\u001b[0m \u001b[0mcolumns\u001b[0m\u001b[0;34m)\u001b[0m\u001b[0;34m\u001b[0m\u001b[0;34m\u001b[0m\u001b[0m\n\u001b[0m\u001b[1;32m     53\u001b[0m                         \u001b[0mprint\u001b[0m\u001b[0;34m(\u001b[0m\u001b[0mdf\u001b[0m\u001b[0;34m)\u001b[0m\u001b[0;34m\u001b[0m\u001b[0;34m\u001b[0m\u001b[0m\n\u001b[1;32m     54\u001b[0m                         \u001b[0mdf\u001b[0m\u001b[0;34m.\u001b[0m\u001b[0mto_excel\u001b[0m\u001b[0;34m(\u001b[0m\u001b[0;34m'SuperTempShares.xlsx'\u001b[0m\u001b[0;34m)\u001b[0m\u001b[0;34m\u001b[0m\u001b[0;34m\u001b[0m\u001b[0m\n",
      "\u001b[0;32m~/.local/lib/python3.10/site-packages/pandas/core/frame.py\u001b[0m in \u001b[0;36m__init__\u001b[0;34m(self, data, index, columns, dtype, copy)\u001b[0m\n\u001b[1;32m    780\u001b[0m                     \u001b[0;32mif\u001b[0m \u001b[0mcolumns\u001b[0m \u001b[0;32mis\u001b[0m \u001b[0;32mnot\u001b[0m \u001b[0;32mNone\u001b[0m\u001b[0;34m:\u001b[0m\u001b[0;34m\u001b[0m\u001b[0;34m\u001b[0m\u001b[0m\n\u001b[1;32m    781\u001b[0m                         \u001b[0mcolumns\u001b[0m \u001b[0;34m=\u001b[0m \u001b[0mensure_index\u001b[0m\u001b[0;34m(\u001b[0m\u001b[0mcolumns\u001b[0m\u001b[0;34m)\u001b[0m\u001b[0;34m\u001b[0m\u001b[0;34m\u001b[0m\u001b[0m\n\u001b[0;32m--> 782\u001b[0;31m                     arrays, columns, index = nested_data_to_arrays(\n\u001b[0m\u001b[1;32m    783\u001b[0m                         \u001b[0;31m# error: Argument 3 to \"nested_data_to_arrays\" has incompatible\u001b[0m\u001b[0;34m\u001b[0m\u001b[0;34m\u001b[0m\u001b[0m\n\u001b[1;32m    784\u001b[0m                         \u001b[0;31m# type \"Optional[Collection[Any]]\"; expected \"Optional[Index]\"\u001b[0m\u001b[0;34m\u001b[0m\u001b[0;34m\u001b[0m\u001b[0m\n",
      "\u001b[0;32m~/.local/lib/python3.10/site-packages/pandas/core/internals/construction.py\u001b[0m in \u001b[0;36mnested_data_to_arrays\u001b[0;34m(data, columns, index, dtype)\u001b[0m\n\u001b[1;32m    496\u001b[0m         \u001b[0mcolumns\u001b[0m \u001b[0;34m=\u001b[0m \u001b[0mensure_index\u001b[0m\u001b[0;34m(\u001b[0m\u001b[0mdata\u001b[0m\u001b[0;34m[\u001b[0m\u001b[0;36m0\u001b[0m\u001b[0;34m]\u001b[0m\u001b[0;34m.\u001b[0m\u001b[0m_fields\u001b[0m\u001b[0;34m)\u001b[0m\u001b[0;34m\u001b[0m\u001b[0;34m\u001b[0m\u001b[0m\n\u001b[1;32m    497\u001b[0m \u001b[0;34m\u001b[0m\u001b[0m\n\u001b[0;32m--> 498\u001b[0;31m     \u001b[0marrays\u001b[0m\u001b[0;34m,\u001b[0m \u001b[0mcolumns\u001b[0m \u001b[0;34m=\u001b[0m \u001b[0mto_arrays\u001b[0m\u001b[0;34m(\u001b[0m\u001b[0mdata\u001b[0m\u001b[0;34m,\u001b[0m \u001b[0mcolumns\u001b[0m\u001b[0;34m,\u001b[0m \u001b[0mdtype\u001b[0m\u001b[0;34m=\u001b[0m\u001b[0mdtype\u001b[0m\u001b[0;34m)\u001b[0m\u001b[0;34m\u001b[0m\u001b[0;34m\u001b[0m\u001b[0m\n\u001b[0m\u001b[1;32m    499\u001b[0m     \u001b[0mcolumns\u001b[0m \u001b[0;34m=\u001b[0m \u001b[0mensure_index\u001b[0m\u001b[0;34m(\u001b[0m\u001b[0mcolumns\u001b[0m\u001b[0;34m)\u001b[0m\u001b[0;34m\u001b[0m\u001b[0;34m\u001b[0m\u001b[0m\n\u001b[1;32m    500\u001b[0m \u001b[0;34m\u001b[0m\u001b[0m\n",
      "\u001b[0;32m~/.local/lib/python3.10/site-packages/pandas/core/internals/construction.py\u001b[0m in \u001b[0;36mto_arrays\u001b[0;34m(data, columns, dtype)\u001b[0m\n\u001b[1;32m    838\u001b[0m         \u001b[0marr\u001b[0m \u001b[0;34m=\u001b[0m \u001b[0m_list_to_arrays\u001b[0m\u001b[0;34m(\u001b[0m\u001b[0mdata\u001b[0m\u001b[0;34m)\u001b[0m\u001b[0;34m\u001b[0m\u001b[0;34m\u001b[0m\u001b[0m\n\u001b[1;32m    839\u001b[0m \u001b[0;34m\u001b[0m\u001b[0m\n\u001b[0;32m--> 840\u001b[0;31m     \u001b[0mcontent\u001b[0m\u001b[0;34m,\u001b[0m \u001b[0mcolumns\u001b[0m \u001b[0;34m=\u001b[0m \u001b[0m_finalize_columns_and_data\u001b[0m\u001b[0;34m(\u001b[0m\u001b[0marr\u001b[0m\u001b[0;34m,\u001b[0m \u001b[0mcolumns\u001b[0m\u001b[0;34m,\u001b[0m \u001b[0mdtype\u001b[0m\u001b[0;34m)\u001b[0m\u001b[0;34m\u001b[0m\u001b[0;34m\u001b[0m\u001b[0m\n\u001b[0m\u001b[1;32m    841\u001b[0m     \u001b[0;32mreturn\u001b[0m \u001b[0mcontent\u001b[0m\u001b[0;34m,\u001b[0m \u001b[0mcolumns\u001b[0m\u001b[0;34m\u001b[0m\u001b[0;34m\u001b[0m\u001b[0m\n\u001b[1;32m    842\u001b[0m \u001b[0;34m\u001b[0m\u001b[0m\n",
      "\u001b[0;32m~/.local/lib/python3.10/site-packages/pandas/core/internals/construction.py\u001b[0m in \u001b[0;36m_finalize_columns_and_data\u001b[0;34m(content, columns, dtype)\u001b[0m\n\u001b[1;32m    935\u001b[0m     \u001b[0;32mexcept\u001b[0m \u001b[0mAssertionError\u001b[0m \u001b[0;32mas\u001b[0m \u001b[0merr\u001b[0m\u001b[0;34m:\u001b[0m\u001b[0;34m\u001b[0m\u001b[0;34m\u001b[0m\u001b[0m\n\u001b[1;32m    936\u001b[0m         \u001b[0;31m# GH#26429 do not raise user-facing AssertionError\u001b[0m\u001b[0;34m\u001b[0m\u001b[0;34m\u001b[0m\u001b[0m\n\u001b[0;32m--> 937\u001b[0;31m         \u001b[0;32mraise\u001b[0m \u001b[0mValueError\u001b[0m\u001b[0;34m(\u001b[0m\u001b[0merr\u001b[0m\u001b[0;34m)\u001b[0m \u001b[0;32mfrom\u001b[0m \u001b[0merr\u001b[0m\u001b[0;34m\u001b[0m\u001b[0;34m\u001b[0m\u001b[0m\n\u001b[0m\u001b[1;32m    938\u001b[0m \u001b[0;34m\u001b[0m\u001b[0m\n\u001b[1;32m    939\u001b[0m     \u001b[0;32mif\u001b[0m \u001b[0mlen\u001b[0m\u001b[0;34m(\u001b[0m\u001b[0mcontents\u001b[0m\u001b[0;34m)\u001b[0m \u001b[0;32mand\u001b[0m \u001b[0mcontents\u001b[0m\u001b[0;34m[\u001b[0m\u001b[0;36m0\u001b[0m\u001b[0;34m]\u001b[0m\u001b[0;34m.\u001b[0m\u001b[0mdtype\u001b[0m \u001b[0;34m==\u001b[0m \u001b[0mnp\u001b[0m\u001b[0;34m.\u001b[0m\u001b[0mobject_\u001b[0m\u001b[0;34m:\u001b[0m\u001b[0;34m\u001b[0m\u001b[0;34m\u001b[0m\u001b[0m\n",
      "\u001b[0;31mValueError\u001b[0m: 7 columns passed, passed data had 5 columns"
     ]
    }
   ],
   "source": [
    "def addRow(rows, company, ticker):\n",
    "\tco = yf.Ticker(ticker)\n",
    "\thistory = co.history(period=\"max\", interval=\"3mo\")\n",
    "\ttry:\n",
    "\t\tipo = history.index[0].tz_localize(None)\n",
    "\t\tfirstValue = history.iloc[0,0]\n",
    "\t\tlastValue = history.iloc[-1,0]\n",
    "\t\tlastDate = history.index[-1].tz_localize(None)\n",
    "\t\thowMuchPercent = ((lastValue - firstValue) / firstValue) * 100\n",
    "\texcept:\n",
    "\t\tipo = None\n",
    "\t\tfirstValue = None\n",
    "\t\tlastValue = None\n",
    "\t\tlastDate = None\n",
    "\t\thowMuchPercent = None\n",
    "\trow = [company, tickeripo, firstValue, lastValue, lastDate, howMuchPercent]\n",
    "\t# add row in the dataframe\n",
    "\trows.append(row)\n",
    "\treturn \n",
    "\n",
    "\n",
    "columns = ['Company', 'Ticker', 'IPO', 'First Value', 'Last Value',\n",
    "\t   \t\t 'Last Date', 'How Much']\n",
    "rows = []\n",
    "# Lê até encontrar as strings que indicam final\n",
    "while True:\n",
    "\tpage = pages[p]\n",
    "\tpage_content = page.extract_text()\n",
    "\tparsed = ''.join(page_content)\n",
    "\tsplited = parsed.split('\\n')\n",
    "\tprint(\"\\n\\n---------------------\")\n",
    "\tprint(\"Página \" + str(p+1))\n",
    "\tprint(\"---------------------\\n\")\n",
    "\tif p != 9: # Tratamento normal - a não ser a página 10 (no else) que está fora do padrão\n",
    "\t\tc = 0\n",
    "\t\t#cabeçalhos\n",
    "\t\tprint(splited[c] + \" | \" + splited[c+1])\n",
    "\t\tc += 2\n",
    "\t\tended = False\n",
    "\t\twhile splited[c] != \"June 24, 2022\": #String do fim de cada página\n",
    "\t\t\tif splited[c] == \"ftserussell.com\": #String no final de toda a lista\n",
    "\t\t\t\tprint(\"----------------\\nTerminou\\n----------------\")\n",
    "\t\t\t\tended = True\n",
    "\t\t\t\tbreak\n",
    "\t\t\tcompany = splited[c]\n",
    "\t\t\tticker = splited[c+1]\n",
    "\t\t\taddRow(rows, company, ticker)\n",
    "\t\t\t#df.loc[len(df.index)] = [company, ticker, ipo, firstValue, lastValue, lastDate, howMuchPercent]\n",
    "\t\t\tprint( company + \" | \" + ticker + \" | ̭̭\" + str(ipo) + \" | ̭̭\" + str(firstValue) + \" | ̭̭\" + str(lastValue) + \" | ̭̭\" + str(lastDate) + \" | ̭̭\" + str(howMuchPercent))\n",
    "\t\t\tc += 2\n",
    "\t\t\t#df.to_csv('SuperTempShares.csv', date_format=\"%d/%m/%Y\")\n",
    "\t\t\tdf = pd.DataFrame(rows, columns = columns)\n",
    "\t\t\tprint(df)\n",
    "\t\t\tdf.to_excel('SuperTempShares.xlsx')\n",
    "\n",
    "\n",
    "\telse:\n",
    "\t\t# Na página 10 o PDF fica sem quebra de linhas entre colunas\n",
    "\t\t\n",
    "\t\t# cabeçalhos\n",
    "\t\tc = 0\n",
    "\t\t# separa o ticker, que está no lado direito\n",
    "\t\theaders = splited[c].rsplit(maxsplit=1)\n",
    "\t\tprint(headers[0] + \" | \" + headers[1])\n",
    "\t\tc += 1\n",
    "\t\twhile splited[c][:13] != \"June 24, 2022\":\n",
    "\t\t\t# separa o ticker, que está a direita\n",
    "\t\t\tsubsplited = splited[c].rsplit(maxsplit=1)\n",
    "\t\t\tcompany = subsplited[0]\n",
    "\t\t\tticker = subsplited[1]\n",
    "\t\t\taddRow(rows, ticker)\n",
    "\t\t\t#df.loc[len(df.index)] = [company, ticker, ipo, firstValue, lastValue, lastDate, howMuchPercent]\n",
    "\t\t\tprint( company + \" | \" + ticker + \" | ̭̭\" + str(ipo) + \" | ̭̭\" + str(firstValue) + \" | ̭̭\" + str(lastValue) + \" | ̭̭\" + str(lastDate) + \" | ̭̭\" + str(howMuchPercent))\n",
    "\t\t\tc += 1\n",
    "\n",
    "\tif ended:\n",
    "\t\tprint(\"----------------\\nTerminou Mesmo\\n----------------\")\n",
    "\t\tbreak\n",
    "\n",
    "\tp += 1\n",
    "\tdf = pd.DataFrame(rows, columns = columns)\n",
    "\t\n",
    "\t#print(df)\n",
    "\t#df.to_excel('TempShares.xlsx')\n",
    "\n",
    "print(df)\n",
    "df.to_excel('Shares.xlsx')\n",
    "\n",
    "#print(\"Sem eliminar as quebras\")\n",
    "#print(parsed)\n",
    "\n",
    "#parsed = re.sub('n', '', parsed)\n",
    "#print(\"Após eliminar as quebras\")\n",
    "#print(parsed)\n",
    "\n",
    "#print(\"Pegando apenas as 20 primeiras posições\")\n",
    "#novastring = parsed[0:20]\n",
    "#print(novastring)\n"
   ]
  }
 ],
 "metadata": {
  "kernelspec": {
   "display_name": "Python 3",
   "language": "python",
   "name": "python3"
  },
  "language_info": {
   "codemirror_mode": {
    "name": "ipython",
    "version": 3
   },
   "file_extension": ".py",
   "mimetype": "text/x-python",
   "name": "python",
   "nbconvert_exporter": "python",
   "pygments_lexer": "ipython3",
   "version": "3.10.6"
  },
  "orig_nbformat": 4
 },
 "nbformat": 4,
 "nbformat_minor": 2
}
